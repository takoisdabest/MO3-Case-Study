{
 "cells": [
  {
   "cell_type": "code",
   "execution_count": null,
   "id": "1c5e7824-63b8-41ed-a7c2-02ba4dee3303",
   "metadata": {},
   "outputs": [],
   "source": [
    "class Vehicle:\n",
    "    def __init__(self, vehicle_type):\n",
    "        self.vehicle_type = vehicle_type\n",
    "\n",
    "class Automobile(Vehicle):\n",
    "    def __init__(self, vehicle_type, year, make, model, doors, roof):\n",
    "        super().__init__(vehicle_type)\n",
    "        self.year = year\n",
    "        self.make = make\n",
    "        self.model = model\n",
    "        self.doors = doors\n",
    "        self.roof = roof\n",
    "\n",
    "def main():\n",
    "    vehicle_type = input(\"Enter vehicle type (e.g., car, truck, plane, boat, broomstick): \")\n",
    "    year = input(\"Enter year: \")\n",
    "    make = input(\"Enter make: \")\n",
    "    model = input(\"Enter model: \")\n",
    "    doors = input(\"Enter number of doors (2 or 4): \")\n",
    "    roof = input(\"Enter type of roof (solid or sun roof): \")\n",
    "\n",
    "    car = Automobile(vehicle_type, year, make, model, doors, roof)\n",
    "\n",
    "    print(\"\\nVehicle type:\", car.vehicle_type)\n",
    "    print(\"Year:\", car.year)\n",
    "    print(\"Make:\", car.make)\n",
    "    print(\"Model:\", car.model)\n",
    "    print(\"Number of doors:\", car.doors)\n",
    "    print(\"Type of roof:\", car.roof)\n",
    "\n",
    "if __name__ == \"__main__\":\n",
    "    main()"
   ]
  }
 ],
 "metadata": {
  "kernelspec": {
   "display_name": "Python 3 (ipykernel)",
   "language": "python",
   "name": "python3"
  },
  "language_info": {
   "codemirror_mode": {
    "name": "ipython",
    "version": 3
   },
   "file_extension": ".py",
   "mimetype": "text/x-python",
   "name": "python",
   "nbconvert_exporter": "python",
   "pygments_lexer": "ipython3",
   "version": "3.11.7"
  }
 },
 "nbformat": 4,
 "nbformat_minor": 5
}
